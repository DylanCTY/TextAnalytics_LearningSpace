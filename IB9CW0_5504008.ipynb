queries = [
    "Who is Jon Snow's mother?",
    "Describe the Battle of the Blackwater.",
    "What are the names of the direwolves?",
    "Explain the relationship between the Stark and Lannister families.",
    "What is the prophecy given to Daenerys Targaryen?"
]
