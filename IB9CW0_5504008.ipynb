{
  "nbformat": 4,
  "nbformat_minor": 0,
  "metadata": {
    "colab": {
      "provenance": [],
      "authorship_tag": "ABX9TyP1td0AUDxmrQgzOctleiRG",
      "include_colab_link": true
    },
    "kernelspec": {
      "name": "python3",
      "display_name": "Python 3"
    },
    "language_info": {
      "name": "python"
    }
  },
  "cells": [
    {
      "cell_type": "markdown",
      "metadata": {
        "id": "view-in-github",
        "colab_type": "text"
      },
      "source": [
        "<a href=\"https://colab.research.google.com/github/DylanCTY/TextAnalytics_LearningSpace/blob/main/IB9CW0_5504008.ipynb\" target=\"_parent\"><img src=\"https://colab.research.google.com/assets/colab-badge.svg\" alt=\"Open In Colab\"/></a>"
      ]
    },
    {
      "cell_type": "markdown",
      "source": [
        "Define queries"
      ],
      "metadata": {
        "id": "Ctj-DZeUwWGZ"
      }
    },
    {
      "cell_type": "code",
      "execution_count": null,
      "metadata": {
        "id": "VaI51ipYwN0l"
      },
      "outputs": [],
      "source": [
        "queries = [\n",
        "    \"Who is Jon Snow's mother?\",\n",
        "    \"Describe the Battle of the Blackwater.\",\n",
        "    \"What are the names of the direwolves?\",\n",
        "    \"Explain the relationship between the Stark and Lannister families.\",\n",
        "    \"What is the prophecy given to Daenerys Targaryen?\"\n",
        "]\n"
      ]
    },
    {
      "cell_type": "markdown",
      "source": [
        "Construct RAG system"
      ],
      "metadata": {
        "id": "OSN7N-rNxZ8q"
      }
    },
    {
      "cell_type": "code",
      "source": [],
      "metadata": {
        "id": "Cs3TuupNxfwf"
      },
      "execution_count": null,
      "outputs": []
    }
  ]
}